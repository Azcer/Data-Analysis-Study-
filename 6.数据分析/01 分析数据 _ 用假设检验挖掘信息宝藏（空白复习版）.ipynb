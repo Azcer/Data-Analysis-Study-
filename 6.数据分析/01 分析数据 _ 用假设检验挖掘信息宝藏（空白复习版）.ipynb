{
 "cells": [
  {
   "cell_type": "code",
   "execution_count": 22,
   "metadata": {},
   "outputs": [],
   "source": [
    "import numpy as np\n",
    "import pandas as pd\n",
    "\n",
    "# 引入t检验相关函数\n",
    "from scipy.stats import ttest_ind\n",
    "\n",
    "# 引入Z检验相关函数\n",
    "from statsmodels.stats.weightstats import ztest\n",
    "\n",
    "# 引入绘图相关库\n",
    "import seaborn as sns\n",
    "import matplotlib.pyplot as plt\n",
    "import matplotlib"
   ]
  },
  {
   "cell_type": "markdown",
   "metadata": {},
   "source": [
    "## t检验"
   ]
  },
  {
   "cell_type": "code",
   "execution_count": 23,
   "metadata": {},
   "outputs": [
    {
     "data": {
      "text/html": [
       "<div>\n",
       "<style scoped>\n",
       "    .dataframe tbody tr th:only-of-type {\n",
       "        vertical-align: middle;\n",
       "    }\n",
       "\n",
       "    .dataframe tbody tr th {\n",
       "        vertical-align: top;\n",
       "    }\n",
       "\n",
       "    .dataframe thead th {\n",
       "        text-align: right;\n",
       "    }\n",
       "</style>\n",
       "<table border=\"1\" class=\"dataframe\">\n",
       "  <thead>\n",
       "    <tr style=\"text-align: right;\">\n",
       "      <th></th>\n",
       "      <th>身高</th>\n",
       "      <th>地区</th>\n",
       "    </tr>\n",
       "  </thead>\n",
       "  <tbody>\n",
       "    <tr>\n",
       "      <th>0</th>\n",
       "      <td>165</td>\n",
       "      <td>A</td>\n",
       "    </tr>\n",
       "    <tr>\n",
       "      <th>1</th>\n",
       "      <td>167</td>\n",
       "      <td>A</td>\n",
       "    </tr>\n",
       "    <tr>\n",
       "      <th>2</th>\n",
       "      <td>172</td>\n",
       "      <td>A</td>\n",
       "    </tr>\n",
       "    <tr>\n",
       "      <th>3</th>\n",
       "      <td>176</td>\n",
       "      <td>A</td>\n",
       "    </tr>\n",
       "    <tr>\n",
       "      <th>4</th>\n",
       "      <td>178</td>\n",
       "      <td>A</td>\n",
       "    </tr>\n",
       "    <tr>\n",
       "      <th>5</th>\n",
       "      <td>180</td>\n",
       "      <td>A</td>\n",
       "    </tr>\n",
       "    <tr>\n",
       "      <th>6</th>\n",
       "      <td>182</td>\n",
       "      <td>A</td>\n",
       "    </tr>\n",
       "    <tr>\n",
       "      <th>7</th>\n",
       "      <td>183</td>\n",
       "      <td>A</td>\n",
       "    </tr>\n",
       "    <tr>\n",
       "      <th>8</th>\n",
       "      <td>185</td>\n",
       "      <td>A</td>\n",
       "    </tr>\n",
       "    <tr>\n",
       "      <th>9</th>\n",
       "      <td>188</td>\n",
       "      <td>A</td>\n",
       "    </tr>\n",
       "    <tr>\n",
       "      <th>10</th>\n",
       "      <td>155</td>\n",
       "      <td>B</td>\n",
       "    </tr>\n",
       "    <tr>\n",
       "      <th>11</th>\n",
       "      <td>158</td>\n",
       "      <td>B</td>\n",
       "    </tr>\n",
       "    <tr>\n",
       "      <th>12</th>\n",
       "      <td>160</td>\n",
       "      <td>B</td>\n",
       "    </tr>\n",
       "    <tr>\n",
       "      <th>13</th>\n",
       "      <td>162</td>\n",
       "      <td>B</td>\n",
       "    </tr>\n",
       "    <tr>\n",
       "      <th>14</th>\n",
       "      <td>165</td>\n",
       "      <td>B</td>\n",
       "    </tr>\n",
       "    <tr>\n",
       "      <th>15</th>\n",
       "      <td>168</td>\n",
       "      <td>B</td>\n",
       "    </tr>\n",
       "    <tr>\n",
       "      <th>16</th>\n",
       "      <td>172</td>\n",
       "      <td>B</td>\n",
       "    </tr>\n",
       "    <tr>\n",
       "      <th>17</th>\n",
       "      <td>176</td>\n",
       "      <td>B</td>\n",
       "    </tr>\n",
       "    <tr>\n",
       "      <th>18</th>\n",
       "      <td>179</td>\n",
       "      <td>B</td>\n",
       "    </tr>\n",
       "    <tr>\n",
       "      <th>19</th>\n",
       "      <td>182</td>\n",
       "      <td>B</td>\n",
       "    </tr>\n",
       "  </tbody>\n",
       "</table>\n",
       "</div>"
      ],
      "text/plain": [
       "     身高 地区\n",
       "0   165  A\n",
       "1   167  A\n",
       "2   172  A\n",
       "3   176  A\n",
       "4   178  A\n",
       "5   180  A\n",
       "6   182  A\n",
       "7   183  A\n",
       "8   185  A\n",
       "9   188  A\n",
       "10  155  B\n",
       "11  158  B\n",
       "12  160  B\n",
       "13  162  B\n",
       "14  165  B\n",
       "15  168  B\n",
       "16  172  B\n",
       "17  176  B\n",
       "18  179  B\n",
       "19  182  B"
      ]
     },
     "execution_count": 23,
     "metadata": {},
     "output_type": "execute_result"
    }
   ],
   "source": [
    "height_df = pd.read_csv(\"height.csv\")\n",
    "height_df"
   ]
  },
  {
   "cell_type": "code",
   "execution_count": 24,
   "metadata": {},
   "outputs": [],
   "source": [
    "region_a_height = height_df.query(\"地区 == 'A'\")['身高']\n",
    "region_b_height = height_df.query(\"地区 == 'B'\")['身高']"
   ]
  },
  {
   "cell_type": "code",
   "execution_count": 25,
   "metadata": {},
   "outputs": [
    {
     "data": {
      "text/plain": [
       "0    165\n",
       "1    167\n",
       "2    172\n",
       "3    176\n",
       "4    178\n",
       "5    180\n",
       "6    182\n",
       "7    183\n",
       "8    185\n",
       "9    188\n",
       "Name: 身高, dtype: int64"
      ]
     },
     "execution_count": 25,
     "metadata": {},
     "output_type": "execute_result"
    }
   ],
   "source": [
    "region_a_height"
   ]
  },
  {
   "cell_type": "code",
   "execution_count": 26,
   "metadata": {},
   "outputs": [
    {
     "data": {
      "text/plain": [
       "10    155\n",
       "11    158\n",
       "12    160\n",
       "13    162\n",
       "14    165\n",
       "15    168\n",
       "16    172\n",
       "17    176\n",
       "18    179\n",
       "19    182\n",
       "Name: 身高, dtype: int64"
      ]
     },
     "execution_count": 26,
     "metadata": {},
     "output_type": "execute_result"
    }
   ],
   "source": [
    "region_b_height"
   ]
  },
  {
   "cell_type": "code",
   "execution_count": 36,
   "metadata": {},
   "outputs": [
    {
     "data": {
      "image/png": "[encoded data removed]",
      "text/plain": [
       "<Figure size 640x480 with 1 Axes>"
      ]
     },
     "metadata": {},
     "output_type": "display_data"
    }
   ],
   "source": [
    "sns.kdeplot(region_a_height)\n",
    "sns.kdeplot(region_b_height)\n",
    "plt.xlabel('height')\n",
    "plt.show()"
   ]
  },
  {
   "cell_type": "code",
   "execution_count": 38,
   "metadata": {},
   "outputs": [
    {
     "name": "stdout",
     "output_type": "stream",
     "text": [
      "2.608375959216796 0.01778330596955697\n"
     ]
    }
   ],
   "source": [
    "# 进行t检验\n",
    "t_stat, p_value = ttest_ind(region_a_height, region_b_height)\n",
    "print(t_stat, p_value)"
   ]
  },
  {
   "cell_type": "code",
   "execution_count": 39,
   "metadata": {},
   "outputs": [
    {
     "name": "stdout",
     "output_type": "stream",
     "text": [
      "两组数据有显著差异\n"
     ]
    }
   ],
   "source": [
    "# 显著水平为0.05（显著水平一般用alpha字母表示）\n",
    "alpha = 0.05\n",
    "\n",
    "\n",
    "# 比较计算出的p值和显著水平，打印是否有显著差异的结论\n",
    "if p_value < alpha:\n",
    "    print('两组数据有显著差异')\n",
    "else:\n",
    "    print('两组数据无显著差异')\n",
    "\n",
    "\n"
   ]
  },
  {
   "cell_type": "markdown",
   "metadata": {},
   "source": [
    "## Z检验"
   ]
  },
  {
   "cell_type": "code",
   "execution_count": 30,
   "metadata": {},
   "outputs": [
    {
     "data": {
      "text/html": [
       "<div>\n",
       "<style scoped>\n",
       "    .dataframe tbody tr th:only-of-type {\n",
       "        vertical-align: middle;\n",
       "    }\n",
       "\n",
       "    .dataframe tbody tr th {\n",
       "        vertical-align: top;\n",
       "    }\n",
       "\n",
       "    .dataframe thead th {\n",
       "        text-align: right;\n",
       "    }\n",
       "</style>\n",
       "<table border=\"1\" class=\"dataframe\">\n",
       "  <thead>\n",
       "    <tr style=\"text-align: right;\">\n",
       "      <th></th>\n",
       "      <th>身高</th>\n",
       "      <th>地区</th>\n",
       "    </tr>\n",
       "  </thead>\n",
       "  <tbody>\n",
       "    <tr>\n",
       "      <th>0</th>\n",
       "      <td>175</td>\n",
       "      <td>A</td>\n",
       "    </tr>\n",
       "    <tr>\n",
       "      <th>1</th>\n",
       "      <td>169</td>\n",
       "      <td>A</td>\n",
       "    </tr>\n",
       "    <tr>\n",
       "      <th>2</th>\n",
       "      <td>176</td>\n",
       "      <td>A</td>\n",
       "    </tr>\n",
       "    <tr>\n",
       "      <th>3</th>\n",
       "      <td>185</td>\n",
       "      <td>A</td>\n",
       "    </tr>\n",
       "    <tr>\n",
       "      <th>4</th>\n",
       "      <td>168</td>\n",
       "      <td>A</td>\n",
       "    </tr>\n",
       "    <tr>\n",
       "      <th>...</th>\n",
       "      <td>...</td>\n",
       "      <td>...</td>\n",
       "    </tr>\n",
       "    <tr>\n",
       "      <th>61</th>\n",
       "      <td>173</td>\n",
       "      <td>B</td>\n",
       "    </tr>\n",
       "    <tr>\n",
       "      <th>62</th>\n",
       "      <td>164</td>\n",
       "      <td>B</td>\n",
       "    </tr>\n",
       "    <tr>\n",
       "      <th>63</th>\n",
       "      <td>163</td>\n",
       "      <td>B</td>\n",
       "    </tr>\n",
       "    <tr>\n",
       "      <th>64</th>\n",
       "      <td>183</td>\n",
       "      <td>B</td>\n",
       "    </tr>\n",
       "    <tr>\n",
       "      <th>65</th>\n",
       "      <td>189</td>\n",
       "      <td>B</td>\n",
       "    </tr>\n",
       "  </tbody>\n",
       "</table>\n",
       "<p>66 rows × 2 columns</p>\n",
       "</div>"
      ],
      "text/plain": [
       "     身高 地区\n",
       "0   175  A\n",
       "1   169  A\n",
       "2   176  A\n",
       "3   185  A\n",
       "4   168  A\n",
       "..  ... ..\n",
       "61  173  B\n",
       "62  164  B\n",
       "63  163  B\n",
       "64  183  B\n",
       "65  189  B\n",
       "\n",
       "[66 rows x 2 columns]"
      ]
     },
     "execution_count": 30,
     "metadata": {},
     "output_type": "execute_result"
    }
   ],
   "source": [
    "height_df2 = pd.read_csv(\"height2.csv\")\n",
    "height_df2"
   ]
  },
  {
   "cell_type": "code",
   "execution_count": 31,
   "metadata": {},
   "outputs": [],
   "source": [
    "region_a_height2 = height_df2.query(\"地区 == 'A'\")['身高']\n",
    "region_b_height2 = height_df2.query(\"地区 == 'B'\")['身高']"
   ]
  },
  {
   "cell_type": "code",
   "execution_count": 37,
   "metadata": {},
   "outputs": [
    {
     "data": {
      "image/png": "[encoded data removed]",
      "text/plain": [
       "<Figure size 640x480 with 1 Axes>"
      ]
     },
     "metadata": {},
     "output_type": "display_data"
    }
   ],
   "source": [
    "sns.kdeplot(region_a_height2)\n",
    "sns.kdeplot(region_b_height2)\n",
    "plt.xlabel('height')\n",
    "plt.show()"
   ]
  },
  {
   "cell_type": "code",
   "execution_count": 42,
   "metadata": {},
   "outputs": [
    {
     "name": "stdout",
     "output_type": "stream",
     "text": [
      "-1.9906963757270788 0.04651427741343415\n",
      "两组有显著差异\n"
     ]
    }
   ],
   "source": [
    "# 计算z值和p值（双尾）\n",
    "z_stat, p_value = ztest(region_a_height2, region_b_height2, alternative='two-sided')\n",
    "print(z_stat, p_value)\n",
    "\n",
    "# 显著水平为0.05（显著水平一般用alpha字母表示）\n",
    "alpha = 0.05\n",
    "\n",
    "\n",
    "# 比较计算出的p值和显著水平，打印是否有显著差异的结论\n",
    "if p_value < alpha:\n",
    "    print('两组有显著差异')\n",
    "else:\n",
    "    print('两组无显著差异')\n",
    "\n"
   ]
  },
  {
   "cell_type": "code",
   "execution_count": 44,
   "metadata": {},
   "outputs": [
    {
     "name": "stdout",
     "output_type": "stream",
     "text": [
      "-1.9906963757270788 0.9767428612932829\n",
      "a地区的身高显著大于b地区\n"
     ]
    }
   ],
   "source": [
    "# 计算z值和p值（单尾正差异）\n",
    "z_stat, p_value = ztest(region_a_height2, region_b_height2, alternative='larger')\n",
    "print(z_stat, p_value)\n",
    "\n",
    "# 显著水平为0.025（显著水平一般用alpha字母表示）\n",
    "alpha = 0.025\n",
    "\n",
    "\n",
    "# 比较计算出的p值和显著水平，打印是否有显著差异的结论\n",
    "if p_value > alpha:\n",
    "    print('a地区的身高显著大于b地区')\n",
    "else:\n",
    "    print('a地区的身高显著小于b地区')"
   ]
  },
  {
   "cell_type": "code",
   "execution_count": 46,
   "metadata": {},
   "outputs": [
    {
     "name": "stdout",
     "output_type": "stream",
     "text": [
      "-1.9906963757270788 0.023257138706717074\n",
      "a地区的身高显著大于b地区\n"
     ]
    }
   ],
   "source": [
    "# 计算z值和p值（单尾负差异）\n",
    "z_stat, p_value = ztest(region_a_height2, region_b_height2, alternative='smaller')\n",
    "print(z_stat, p_value)\n",
    "\n",
    "\n",
    "# 显著水平为0.025（显著水平一般用alpha字母表示）\n",
    "alpha = 0.025\n",
    "\n",
    "# 比较计算出的p值和显著水平，打印是否有显著差异的结论\n",
    "if p_value < alpha:\n",
    "        print('a地区的身高显著大于b地区')\n",
    "else:\n",
    "    print('a地区的身高显著小与b地区')\n",
    "\n"
   ]
  }
 ],
 "metadata": {
  "kernelspec": {
   "display_name": "Python 3 (ipykernel)",
   "language": "python",
   "name": "python3"
  },
  "language_info": {
   "codemirror_mode": {
    "name": "ipython",
    "version": 3
   },
   "file_extension": ".py",
   "mimetype": "text/x-python",
   "name": "python",
   "nbconvert_exporter": "python",
   "pygments_lexer": "ipython3",
   "version": "3.11.0"
  }
 },
 "nbformat": 4,
 "nbformat_minor": 4
}
